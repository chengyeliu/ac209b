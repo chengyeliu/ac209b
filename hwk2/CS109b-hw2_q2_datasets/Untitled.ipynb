{
 "cells": [
  {
   "cell_type": "code",
   "execution_count": 70,
   "metadata": {
    "collapsed": true
   },
   "outputs": [],
   "source": [
    "import pandas as pd\n",
    "import math"
   ]
  },
  {
   "cell_type": "code",
   "execution_count": 64,
   "metadata": {
    "collapsed": true
   },
   "outputs": [],
   "source": [
    "counts = pd.read_csv('globalmalariabyYear.csv')"
   ]
  },
  {
   "cell_type": "code",
   "execution_count": 65,
   "metadata": {
    "collapsed": false
   },
   "outputs": [
    {
     "data": {
      "text/html": [
       "<div>\n",
       "<table border=\"1\" class=\"dataframe\">\n",
       "  <thead>\n",
       "    <tr style=\"text-align: right;\">\n",
       "      <th></th>\n",
       "      <th>Unnamed: 0</th>\n",
       "      <th>Code</th>\n",
       "      <th>Country.x</th>\n",
       "      <th>WHO_region</th>\n",
       "      <th>year</th>\n",
       "      <th>Estimated_Malaria_Counts</th>\n",
       "    </tr>\n",
       "  </thead>\n",
       "  <tbody>\n",
       "    <tr>\n",
       "      <th>0</th>\n",
       "      <td>1</td>\n",
       "      <td>AFG</td>\n",
       "      <td>Afghanistan</td>\n",
       "      <td>Eastern Mediterranean</td>\n",
       "      <td>2000</td>\n",
       "      <td>1500000.0</td>\n",
       "    </tr>\n",
       "    <tr>\n",
       "      <th>1</th>\n",
       "      <td>2</td>\n",
       "      <td>AGO</td>\n",
       "      <td>Angola</td>\n",
       "      <td>African</td>\n",
       "      <td>2000</td>\n",
       "      <td>4800000.0</td>\n",
       "    </tr>\n",
       "    <tr>\n",
       "      <th>2</th>\n",
       "      <td>3</td>\n",
       "      <td>ARG</td>\n",
       "      <td>Argentina</td>\n",
       "      <td>Region of the Americas</td>\n",
       "      <td>2000</td>\n",
       "      <td>240.0</td>\n",
       "    </tr>\n",
       "    <tr>\n",
       "      <th>3</th>\n",
       "      <td>4</td>\n",
       "      <td>AZE</td>\n",
       "      <td>Azerbaijan</td>\n",
       "      <td>European</td>\n",
       "      <td>2000</td>\n",
       "      <td>1700.0</td>\n",
       "    </tr>\n",
       "    <tr>\n",
       "      <th>4</th>\n",
       "      <td>5</td>\n",
       "      <td>BDI</td>\n",
       "      <td>Burundi</td>\n",
       "      <td>African</td>\n",
       "      <td>2000</td>\n",
       "      <td>2800000.0</td>\n",
       "    </tr>\n",
       "  </tbody>\n",
       "</table>\n",
       "</div>"
      ],
      "text/plain": [
       "   Unnamed: 0 Code    Country.x              WHO_region  year  \\\n",
       "0           1  AFG  Afghanistan   Eastern Mediterranean  2000   \n",
       "1           2  AGO       Angola                 African  2000   \n",
       "2           3  ARG    Argentina  Region of the Americas  2000   \n",
       "3           4  AZE   Azerbaijan                European  2000   \n",
       "4           5  BDI      Burundi                 African  2000   \n",
       "\n",
       "   Estimated_Malaria_Counts  \n",
       "0                 1500000.0  \n",
       "1                 4800000.0  \n",
       "2                     240.0  \n",
       "3                    1700.0  \n",
       "4                 2800000.0  "
      ]
     },
     "execution_count": 65,
     "metadata": {},
     "output_type": "execute_result"
    }
   ],
   "source": [
    "counts.head()"
   ]
  },
  {
   "cell_type": "code",
   "execution_count": 44,
   "metadata": {
    "collapsed": false
   },
   "outputs": [],
   "source": [
    "year_2000 = counts[counts['year'] == 2000]\n",
    "year_2015 = counts[counts['year'] == 2015]"
   ]
  },
  {
   "cell_type": "code",
   "execution_count": 60,
   "metadata": {
    "collapsed": false
   },
   "outputs": [],
   "source": [
    "year_2000_grouped = year_2000.groupby(by='WHO_region', as_index=False)['Estimated_Malaria_Counts'].sum()\n",
    "year_2015_grouped = year_2015.groupby(by='WHO_region', as_index=False)['Estimated_Malaria_Counts'].sum()"
   ]
  },
  {
   "cell_type": "code",
   "execution_count": 61,
   "metadata": {
    "collapsed": false
   },
   "outputs": [],
   "source": [
    "year_2015_grouped['2000'] = year_2000_grouped['Estimated_Malaria_Counts']"
   ]
  },
  {
   "cell_type": "code",
   "execution_count": 75,
   "metadata": {
    "collapsed": false
   },
   "outputs": [],
   "source": [
    "year_2015_grouped['percentchange'] = -(year_2015_grouped['Estimated_Malaria_Counts'] - year_2015_grouped['2000'])/year_2015_grouped['2000']"
   ]
  },
  {
   "cell_type": "code",
   "execution_count": 76,
   "metadata": {
    "collapsed": false
   },
   "outputs": [],
   "source": [
    "year_2015_grouped['percentchange'] = year_2015_grouped['percentchange'].apply(lambda x: round(x, 2))"
   ]
  },
  {
   "cell_type": "code",
   "execution_count": 78,
   "metadata": {
    "collapsed": true
   },
   "outputs": [],
   "source": [
    "year_2015_grouped.to_csv('percent_change_2000_2015.csv')"
   ]
  },
  {
   "cell_type": "code",
   "execution_count": 77,
   "metadata": {
    "collapsed": false
   },
   "outputs": [
    {
     "data": {
      "text/html": [
       "<div>\n",
       "<table border=\"1\" class=\"dataframe\">\n",
       "  <thead>\n",
       "    <tr style=\"text-align: right;\">\n",
       "      <th></th>\n",
       "      <th>WHO_region</th>\n",
       "      <th>Estimated_Malaria_Counts</th>\n",
       "      <th>2000</th>\n",
       "      <th>percentchange</th>\n",
       "    </tr>\n",
       "  </thead>\n",
       "  <tbody>\n",
       "    <tr>\n",
       "      <th>0</th>\n",
       "      <td>African</td>\n",
       "      <td>191386320.0</td>\n",
       "      <td>213468390.0</td>\n",
       "      <td>0.10</td>\n",
       "    </tr>\n",
       "    <tr>\n",
       "      <th>1</th>\n",
       "      <td>Eastern Mediterranean</td>\n",
       "      <td>3805871.0</td>\n",
       "      <td>9117200.0</td>\n",
       "      <td>0.58</td>\n",
       "    </tr>\n",
       "    <tr>\n",
       "      <th>2</th>\n",
       "      <td>European</td>\n",
       "      <td>1.0</td>\n",
       "      <td>35110.0</td>\n",
       "      <td>1.00</td>\n",
       "    </tr>\n",
       "    <tr>\n",
       "      <th>3</th>\n",
       "      <td>Region of the Americas</td>\n",
       "      <td>763580.0</td>\n",
       "      <td>2419260.0</td>\n",
       "      <td>0.68</td>\n",
       "    </tr>\n",
       "    <tr>\n",
       "      <th>4</th>\n",
       "      <td>South-East Asia</td>\n",
       "      <td>14632270.0</td>\n",
       "      <td>33206700.0</td>\n",
       "      <td>0.56</td>\n",
       "    </tr>\n",
       "  </tbody>\n",
       "</table>\n",
       "</div>"
      ],
      "text/plain": [
       "               WHO_region  Estimated_Malaria_Counts         2000  \\\n",
       "0                 African               191386320.0  213468390.0   \n",
       "1   Eastern Mediterranean                 3805871.0    9117200.0   \n",
       "2                European                       1.0      35110.0   \n",
       "3  Region of the Americas                  763580.0    2419260.0   \n",
       "4         South-East Asia                14632270.0   33206700.0   \n",
       "\n",
       "   percentchange  \n",
       "0           0.10  \n",
       "1           0.58  \n",
       "2           1.00  \n",
       "3           0.68  \n",
       "4           0.56  "
      ]
     },
     "execution_count": 77,
     "metadata": {},
     "output_type": "execute_result"
    }
   ],
   "source": [
    "year_2015_grouped.head()"
   ]
  },
  {
   "cell_type": "code",
   "execution_count": null,
   "metadata": {
    "collapsed": true
   },
   "outputs": [],
   "source": []
  }
 ],
 "metadata": {
  "anaconda-cloud": {},
  "kernelspec": {
   "display_name": "Python 2",
   "language": "python",
   "name": "python2"
  },
  "language_info": {
   "codemirror_mode": {
    "name": "ipython",
    "version": 2
   },
   "file_extension": ".py",
   "mimetype": "text/x-python",
   "name": "python",
   "nbconvert_exporter": "python",
   "pygments_lexer": "ipython2",
   "version": "2.7.12"
  }
 },
 "nbformat": 4,
 "nbformat_minor": 0
}
